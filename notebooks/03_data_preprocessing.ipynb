{
 "cells": [
  {
   "cell_type": "markdown",
   "id": "4cffcd78",
   "metadata": {},
   "source": [
    "# Imports"
   ]
  },
  {
   "cell_type": "code",
   "execution_count": 1,
   "id": "a1eb75e5",
   "metadata": {},
   "outputs": [],
   "source": [
    "from utils.data_preprocessing_utils import *"
   ]
  },
  {
   "cell_type": "markdown",
   "id": "78fab2e4",
   "metadata": {},
   "source": [
    "# Preprocesado de los datos"
   ]
  },
  {
   "cell_type": "code",
   "execution_count": 2,
   "id": "b1a7b6b0",
   "metadata": {},
   "outputs": [
    {
     "name": "stdout",
     "output_type": "stream",
     "text": [
      "Procesando el dataset: ..\\datasets\\clean_datasets\\australia_data.parquet...\n"
     ]
    },
    {
     "name": "stderr",
     "output_type": "stream",
     "text": [
      "c:\\Users\\David\\Desktop\\UNI\\TFG\\Github\\ml-emergency-admissions\\notebooks\\utils\\data_preprocessing_utils.py:32: UserWarning: Could not infer format, so each element will be parsed individually, falling back to `dateutil`. To ensure parsing is consistent and as-expected, please specify a format.\n",
      "  df['date'] = pd.to_datetime(df['date'], errors='coerce')\n"
     ]
    },
    {
     "name": "stdout",
     "output_type": "stream",
     "text": [
      "Columnas casteadas\n",
      "Datos agrupados y ordenados por hospital y fecha. Total de filas: 3285\n",
      "Se ha tratado los valores nulos\n",
      "Se han eliminado los outliers\n",
      "Se han llevado a cabo las agregaciones\n",
      "Archivo guardado exitosamente en: ../datasets/processed_datasets/australia_data.parquet\n",
      "Procesando el dataset: ..\\datasets\\clean_datasets\\betania_data.parquet...\n",
      "Columnas casteadas\n",
      "Datos agrupados y ordenados por hospital y fecha. Total de filas: 4155\n",
      "Se ha tratado los valores nulos\n",
      "Se han eliminado los outliers\n",
      "Se han llevado a cabo las agregaciones\n",
      "Archivo guardado exitosamente en: ../datasets/processed_datasets/betania_data.parquet\n",
      "Procesando el dataset: ..\\datasets\\clean_datasets\\botswana_data.parquet...\n",
      "Columnas casteadas\n",
      "Datos agrupados y ordenados por hospital y fecha. Total de filas: 52596\n",
      "Se ha tratado los valores nulos\n",
      "Se han eliminado los outliers\n",
      "Se han llevado a cabo las agregaciones\n",
      "Archivo guardado exitosamente en: ../datasets/processed_datasets/botswana_data.parquet\n",
      "Procesando el dataset: ..\\datasets\\clean_datasets\\cardiff_data.parquet...\n",
      "Columnas casteadas\n",
      "Datos agrupados y ordenados por hospital y fecha. Total de filas: 43081\n",
      "Se ha tratado los valores nulos\n",
      "Se han eliminado los outliers\n",
      "Se han llevado a cabo las agregaciones\n",
      "Archivo guardado exitosamente en: ../datasets/processed_datasets/cardiff_data.parquet\n",
      "Procesando el dataset: ..\\datasets\\clean_datasets\\chile_data.parquet...\n",
      "Columnas casteadas\n",
      "Datos agrupados y ordenados por hospital y fecha. Total de filas: 2742885\n",
      "Se ha tratado los valores nulos\n",
      "Se han eliminado los outliers\n",
      "Se han llevado a cabo las agregaciones\n",
      "Archivo guardado exitosamente en: ../datasets/processed_datasets/chile_data.parquet\n",
      "Procesando el dataset: ..\\datasets\\clean_datasets\\colombia_data.parquet...\n",
      "Columnas casteadas\n",
      "Datos agrupados y ordenados por hospital y fecha. Total de filas: 77024\n",
      "Se ha tratado los valores nulos\n",
      "Se han eliminado los outliers\n",
      "Se han llevado a cabo las agregaciones\n",
      "Archivo guardado exitosamente en: ../datasets/processed_datasets/colombia_data.parquet\n",
      "Procesando el dataset: ..\\datasets\\clean_datasets\\iowa_data.parquet...\n",
      "Columnas casteadas\n",
      "Datos agrupados y ordenados por hospital y fecha. Total de filas: 33120\n",
      "Se ha tratado los valores nulos\n",
      "Se han eliminado los outliers\n",
      "Se han llevado a cabo las agregaciones\n",
      "Archivo guardado exitosamente en: ../datasets/processed_datasets/iowa_data.parquet\n",
      "Procesando el dataset: ..\\datasets\\clean_datasets\\iran_data.parquet...\n",
      "Columnas casteadas\n",
      "Datos agrupados y ordenados por hospital y fecha. Total de filas: 39249\n",
      "Se ha tratado los valores nulos\n",
      "Se han eliminado los outliers\n",
      "Se han llevado a cabo las agregaciones\n",
      "Archivo guardado exitosamente en: ../datasets/processed_datasets/iran_data.parquet\n",
      "Procesando el dataset: ..\\datasets\\clean_datasets\\mexico_data.parquet...\n",
      "Columnas casteadas\n",
      "Datos agrupados y ordenados por hospital y fecha. Total de filas: 7995137\n",
      "Se ha tratado los valores nulos\n",
      "Se han eliminado los outliers\n",
      "Se han llevado a cabo las agregaciones\n",
      "Archivo guardado exitosamente en: ../datasets/processed_datasets/mexico_data.parquet\n",
      "Procesando el dataset: ..\\datasets\\clean_datasets\\netherlands_data.parquet...\n",
      "Columnas casteadas\n",
      "Datos agrupados y ordenados por hospital y fecha. Total de filas: 52596\n",
      "Se ha tratado los valores nulos\n",
      "Se han eliminado los outliers\n",
      "Se han llevado a cabo las agregaciones\n",
      "Archivo guardado exitosamente en: ../datasets/processed_datasets/netherlands_data.parquet\n",
      "Procesando el dataset: ..\\datasets\\clean_datasets\\pakistan_data.parquet...\n",
      "Columnas casteadas\n",
      "Datos agrupados y ordenados por hospital y fecha. Total de filas: 52596\n",
      "Se ha tratado los valores nulos\n",
      "Se han eliminado los outliers\n",
      "Se han llevado a cabo las agregaciones\n",
      "Archivo guardado exitosamente en: ../datasets/processed_datasets/pakistan_data.parquet\n",
      "Procesando el dataset: ..\\datasets\\clean_datasets\\spain_data.parquet...\n",
      "Columnas casteadas\n",
      "Datos agrupados y ordenados por hospital y fecha. Total de filas: 42789\n",
      "Se ha tratado los valores nulos\n",
      "Se han eliminado los outliers\n",
      "Se han llevado a cabo las agregaciones\n",
      "Archivo guardado exitosamente en: ../datasets/processed_datasets/spain_data.parquet\n",
      "Procesando el dataset: ..\\datasets\\clean_datasets\\usa_data.parquet...\n",
      "Columnas casteadas\n",
      "Datos agrupados y ordenados por hospital y fecha. Total de filas: 52596\n",
      "Se ha tratado los valores nulos\n",
      "Se han eliminado los outliers\n",
      "Se han llevado a cabo las agregaciones\n",
      "Archivo guardado exitosamente en: ../datasets/processed_datasets/usa_data.parquet\n",
      "Procesando el dataset: ..\\datasets\\clean_datasets\\wales_data.parquet...\n",
      "Columnas casteadas\n",
      "Datos agrupados y ordenados por hospital y fecha. Total de filas: 3437\n",
      "Se ha tratado los valores nulos\n",
      "Se han eliminado los outliers\n",
      "Se han llevado a cabo las agregaciones\n",
      "Archivo guardado exitosamente en: ../datasets/processed_datasets/wales_data.parquet\n"
     ]
    }
   ],
   "source": [
    "clean_datasets= read_clean_files()\n",
    "\n",
    "for dataset in clean_datasets:\n",
    "    print(f\"Procesando el dataset: {dataset}...\")\n",
    "    \n",
    "    df = pd.read_parquet(dataset)\n",
    "    name = dataset.stem  \n",
    "    \n",
    "    df = cast_columns_types(df)\n",
    "\n",
    "    grouped_df = group_data(df) \n",
    "\n",
    "    procesed_df = process_data(grouped_df)\n",
    "\n",
    "    aggregated_df = aggregate_data(procesed_df)\n",
    "\n",
    "    save_processed_df(aggregated_df, name)"
   ]
  }
 ],
 "metadata": {
  "kernelspec": {
   "display_name": "Python 3",
   "language": "python",
   "name": "python3"
  },
  "language_info": {
   "codemirror_mode": {
    "name": "ipython",
    "version": 3
   },
   "file_extension": ".py",
   "mimetype": "text/x-python",
   "name": "python",
   "nbconvert_exporter": "python",
   "pygments_lexer": "ipython3",
   "version": "3.11.9"
  }
 },
 "nbformat": 4,
 "nbformat_minor": 5
}
