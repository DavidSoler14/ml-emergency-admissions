{
 "cells": [
  {
   "cell_type": "markdown",
   "id": "4cffcd78",
   "metadata": {},
   "source": [
    "# Imports"
   ]
  },
  {
   "cell_type": "code",
   "execution_count": null,
   "id": "a1eb75e5",
   "metadata": {},
   "outputs": [],
   "source": [
    "from utils.data_preprocessing_utils import *"
   ]
  },
  {
   "cell_type": "markdown",
   "id": "78fab2e4",
   "metadata": {},
   "source": [
    "# Preprocesado de los datos"
   ]
  },
  {
   "cell_type": "code",
   "execution_count": null,
   "id": "b1a7b6b0",
   "metadata": {},
   "outputs": [
    {
     "name": "stderr",
     "output_type": "stream",
     "text": [
      "c:\\Users\\David\\Desktop\\UNI\\TFG\\Github\\ml-emergency-admissions\\notebooks\\utils\\data_preprocessing_utils.py:23: UserWarning: Could not infer format, so each element will be parsed individually, falling back to `dateutil`. To ensure parsing is consistent and as-expected, please specify a format.\n",
      "  df['date'] = pd.to_datetime(df['date'], errors='coerce')\n"
     ]
    },
    {
     "name": "stdout",
     "output_type": "stream",
     "text": [
      "a australia_data\n",
      "a betania_data\n",
      "a botswana_data\n",
      "a cardiff_data\n",
      "a chile_data\n",
      "a colombia_data\n",
      "a iran_data\n",
      "a mexico_data\n",
      "a netherlands_data\n",
      "a pakistan_data\n",
      "a spain_data\n",
      "a usa_data\n",
      "a wales_data\n"
     ]
    }
   ],
   "source": [
    "from pathlib import Path\n",
    "import pandas as pd\n",
    "\n",
    "clean_datasets= read_clean_files()\n",
    "\n",
    "for dataset in clean_datasets:\n",
    "\n",
    "    df= pd.read_parquet(dataset)\n",
    "    name = dataset.stem  \n",
    "    \n",
    "    df= cast_date_column(df)\n",
    "\n",
    "    proccesed_df= process_data(filtered_df)\n",
    "\n",
    "    aggregated_df= aggregate_data(filtered_df)\n",
    "\n",
    "    save_processed_df(aggregated_df, name)"
   ]
  }
 ],
 "metadata": {
  "kernelspec": {
   "display_name": "Python 3",
   "language": "python",
   "name": "python3"
  },
  "language_info": {
   "codemirror_mode": {
    "name": "ipython",
    "version": 3
   },
   "file_extension": ".py",
   "mimetype": "text/x-python",
   "name": "python",
   "nbconvert_exporter": "python",
   "pygments_lexer": "ipython3",
   "version": "3.11.9"
  }
 },
 "nbformat": 4,
 "nbformat_minor": 5
}
